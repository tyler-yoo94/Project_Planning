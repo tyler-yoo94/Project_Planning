{
 "cells": [
  {
   "cell_type": "code",
   "execution_count": 1,
   "metadata": {},
   "outputs": [],
   "source": [
    "#Set up workspace\n",
    "import os\n",
    "import pandas as pd\n",
    "import numpy as np\n",
    "import matplotlib.pyplot as plt\n",
    "import math\n",
    "import imageio\n",
    "import pylab as pl\n",
    "%matplotlib inline\n"
   ]
  },
  {
   "cell_type": "code",
   "execution_count": 2,
   "metadata": {},
   "outputs": [
    {
     "ename": "FileNotFoundError",
     "evalue": "No such file: 'C:\\Users\\taiwo\\Project_Planning\\Paintings\\Boating.jpg'",
     "output_type": "error",
     "traceback": [
      "\u001b[1;31m---------------------------------------------------------------------------\u001b[0m",
      "\u001b[1;31mFileNotFoundError\u001b[0m                         Traceback (most recent call last)",
      "\u001b[1;32m<ipython-input-2-4d3338f20356>\u001b[0m in \u001b[0;36m<module>\u001b[1;34m\u001b[0m\n\u001b[1;32m----> 1\u001b[1;33m \u001b[0mpic\u001b[0m \u001b[1;33m=\u001b[0m \u001b[0mimageio\u001b[0m\u001b[1;33m.\u001b[0m\u001b[0mimread\u001b[0m\u001b[1;33m(\u001b[0m\u001b[1;34m'Paintings/Boating.jpg'\u001b[0m\u001b[1;33m)\u001b[0m\u001b[1;33m\u001b[0m\u001b[1;33m\u001b[0m\u001b[0m\n\u001b[0m\u001b[0;32m      2\u001b[0m \u001b[0mplt\u001b[0m\u001b[1;33m.\u001b[0m\u001b[0mfigure\u001b[0m\u001b[1;33m(\u001b[0m\u001b[0mfigsize\u001b[0m \u001b[1;33m=\u001b[0m \u001b[1;33m(\u001b[0m\u001b[1;36m15\u001b[0m\u001b[1;33m,\u001b[0m\u001b[1;36m15\u001b[0m\u001b[1;33m)\u001b[0m\u001b[1;33m)\u001b[0m\u001b[1;33m\u001b[0m\u001b[1;33m\u001b[0m\u001b[0m\n\u001b[0;32m      3\u001b[0m \u001b[0mplt\u001b[0m\u001b[1;33m.\u001b[0m\u001b[0mtitle\u001b[0m\u001b[1;33m(\u001b[0m\u001b[1;34m'\"Boating\"\\nRenoir'\u001b[0m\u001b[1;33m)\u001b[0m\u001b[1;33m\u001b[0m\u001b[1;33m\u001b[0m\u001b[0m\n\u001b[0;32m      4\u001b[0m \u001b[0mplt\u001b[0m\u001b[1;33m.\u001b[0m\u001b[0mimshow\u001b[0m\u001b[1;33m(\u001b[0m\u001b[0mpic\u001b[0m\u001b[1;33m)\u001b[0m\u001b[1;33m\u001b[0m\u001b[1;33m\u001b[0m\u001b[0m\n",
      "\u001b[1;32m~\\Anaconda3\\lib\\site-packages\\imageio\\core\\functions.py\u001b[0m in \u001b[0;36mimread\u001b[1;34m(uri, format, **kwargs)\u001b[0m\n\u001b[0;32m    219\u001b[0m \u001b[1;33m\u001b[0m\u001b[0m\n\u001b[0;32m    220\u001b[0m     \u001b[1;31m# Get reader and read first\u001b[0m\u001b[1;33m\u001b[0m\u001b[1;33m\u001b[0m\u001b[1;33m\u001b[0m\u001b[0m\n\u001b[1;32m--> 221\u001b[1;33m     \u001b[0mreader\u001b[0m \u001b[1;33m=\u001b[0m \u001b[0mread\u001b[0m\u001b[1;33m(\u001b[0m\u001b[0muri\u001b[0m\u001b[1;33m,\u001b[0m \u001b[0mformat\u001b[0m\u001b[1;33m,\u001b[0m \u001b[1;34m\"i\"\u001b[0m\u001b[1;33m,\u001b[0m \u001b[1;33m**\u001b[0m\u001b[0mkwargs\u001b[0m\u001b[1;33m)\u001b[0m\u001b[1;33m\u001b[0m\u001b[1;33m\u001b[0m\u001b[0m\n\u001b[0m\u001b[0;32m    222\u001b[0m     \u001b[1;32mwith\u001b[0m \u001b[0mreader\u001b[0m\u001b[1;33m:\u001b[0m\u001b[1;33m\u001b[0m\u001b[1;33m\u001b[0m\u001b[0m\n\u001b[0;32m    223\u001b[0m         \u001b[1;32mreturn\u001b[0m \u001b[0mreader\u001b[0m\u001b[1;33m.\u001b[0m\u001b[0mget_data\u001b[0m\u001b[1;33m(\u001b[0m\u001b[1;36m0\u001b[0m\u001b[1;33m)\u001b[0m\u001b[1;33m\u001b[0m\u001b[1;33m\u001b[0m\u001b[0m\n",
      "\u001b[1;32m~\\Anaconda3\\lib\\site-packages\\imageio\\core\\functions.py\u001b[0m in \u001b[0;36mget_reader\u001b[1;34m(uri, format, mode, **kwargs)\u001b[0m\n\u001b[0;32m    128\u001b[0m \u001b[1;33m\u001b[0m\u001b[0m\n\u001b[0;32m    129\u001b[0m     \u001b[1;31m# Create request object\u001b[0m\u001b[1;33m\u001b[0m\u001b[1;33m\u001b[0m\u001b[1;33m\u001b[0m\u001b[0m\n\u001b[1;32m--> 130\u001b[1;33m     \u001b[0mrequest\u001b[0m \u001b[1;33m=\u001b[0m \u001b[0mRequest\u001b[0m\u001b[1;33m(\u001b[0m\u001b[0muri\u001b[0m\u001b[1;33m,\u001b[0m \u001b[1;34m\"r\"\u001b[0m \u001b[1;33m+\u001b[0m \u001b[0mmode\u001b[0m\u001b[1;33m,\u001b[0m \u001b[1;33m**\u001b[0m\u001b[0mkwargs\u001b[0m\u001b[1;33m)\u001b[0m\u001b[1;33m\u001b[0m\u001b[1;33m\u001b[0m\u001b[0m\n\u001b[0m\u001b[0;32m    131\u001b[0m \u001b[1;33m\u001b[0m\u001b[0m\n\u001b[0;32m    132\u001b[0m     \u001b[1;31m# Get format\u001b[0m\u001b[1;33m\u001b[0m\u001b[1;33m\u001b[0m\u001b[1;33m\u001b[0m\u001b[0m\n",
      "\u001b[1;32m~\\Anaconda3\\lib\\site-packages\\imageio\\core\\request.py\u001b[0m in \u001b[0;36m__init__\u001b[1;34m(self, uri, mode, **kwargs)\u001b[0m\n\u001b[0;32m    124\u001b[0m \u001b[1;33m\u001b[0m\u001b[0m\n\u001b[0;32m    125\u001b[0m         \u001b[1;31m# Parse what was given\u001b[0m\u001b[1;33m\u001b[0m\u001b[1;33m\u001b[0m\u001b[1;33m\u001b[0m\u001b[0m\n\u001b[1;32m--> 126\u001b[1;33m         \u001b[0mself\u001b[0m\u001b[1;33m.\u001b[0m\u001b[0m_parse_uri\u001b[0m\u001b[1;33m(\u001b[0m\u001b[0muri\u001b[0m\u001b[1;33m)\u001b[0m\u001b[1;33m\u001b[0m\u001b[1;33m\u001b[0m\u001b[0m\n\u001b[0m\u001b[0;32m    127\u001b[0m \u001b[1;33m\u001b[0m\u001b[0m\n\u001b[0;32m    128\u001b[0m         \u001b[1;31m# Set extension\u001b[0m\u001b[1;33m\u001b[0m\u001b[1;33m\u001b[0m\u001b[1;33m\u001b[0m\u001b[0m\n",
      "\u001b[1;32m~\\Anaconda3\\lib\\site-packages\\imageio\\core\\request.py\u001b[0m in \u001b[0;36m_parse_uri\u001b[1;34m(self, uri)\u001b[0m\n\u001b[0;32m    276\u001b[0m                 \u001b[1;31m# Reading: check that the file exists (but is allowed a dir)\u001b[0m\u001b[1;33m\u001b[0m\u001b[1;33m\u001b[0m\u001b[1;33m\u001b[0m\u001b[0m\n\u001b[0;32m    277\u001b[0m                 \u001b[1;32mif\u001b[0m \u001b[1;32mnot\u001b[0m \u001b[0mos\u001b[0m\u001b[1;33m.\u001b[0m\u001b[0mpath\u001b[0m\u001b[1;33m.\u001b[0m\u001b[0mexists\u001b[0m\u001b[1;33m(\u001b[0m\u001b[0mfn\u001b[0m\u001b[1;33m)\u001b[0m\u001b[1;33m:\u001b[0m\u001b[1;33m\u001b[0m\u001b[1;33m\u001b[0m\u001b[0m\n\u001b[1;32m--> 278\u001b[1;33m                     \u001b[1;32mraise\u001b[0m \u001b[0mFileNotFoundError\u001b[0m\u001b[1;33m(\u001b[0m\u001b[1;34m\"No such file: '%s'\"\u001b[0m \u001b[1;33m%\u001b[0m \u001b[0mfn\u001b[0m\u001b[1;33m)\u001b[0m\u001b[1;33m\u001b[0m\u001b[1;33m\u001b[0m\u001b[0m\n\u001b[0m\u001b[0;32m    279\u001b[0m             \u001b[1;32melse\u001b[0m\u001b[1;33m:\u001b[0m\u001b[1;33m\u001b[0m\u001b[1;33m\u001b[0m\u001b[0m\n\u001b[0;32m    280\u001b[0m                 \u001b[1;31m# Writing: check that the directory to write to does exist\u001b[0m\u001b[1;33m\u001b[0m\u001b[1;33m\u001b[0m\u001b[1;33m\u001b[0m\u001b[0m\n",
      "\u001b[1;31mFileNotFoundError\u001b[0m: No such file: 'C:\\Users\\taiwo\\Project_Planning\\Paintings\\Boating.jpg'"
     ]
    }
   ],
   "source": [
    "pic = imageio.imread('Paintings/Boating.jpg')\n",
    "plt.figure(figsize = (15,15))\n",
    "plt.title('\"Boating\"\\nRenoir')\n",
    "plt.imshow(pic)"
   ]
  },
  {
   "cell_type": "code",
   "execution_count": null,
   "metadata": {},
   "outputs": [],
   "source": [
    "print('Type of the image : ' , type(pic))\n",
    "print('Shape of the image : {}'.format(pic.shape))\n",
    "print('Image Height {}'.format(pic.shape[0]))\n",
    "print('Image Width {}'.format(pic.shape[1]))\n",
    "print('Dimension of Image {}'.format(pic.ndim))"
   ]
  },
  {
   "cell_type": "code",
   "execution_count": null,
   "metadata": {},
   "outputs": [],
   "source": [
    "print('Image size {}'.format(pic.size))\n",
    "print('Maximum RGB value in this image {}'.format(pic.max()))\n",
    "print('Minimum RGB value in this image {}'.format(pic.min()))"
   ]
  },
  {
   "cell_type": "code",
   "execution_count": null,
   "metadata": {},
   "outputs": [],
   "source": [
    "plt.figure(figsize = (20,15))\n",
    "\n",
    "plt.subplot(1, 3, 1)\n",
    "plt.title('R channel')\n",
    "plt.imshow(pic[ : , : , 0])\n",
    "\n",
    "plt.subplot(1, 3, 2)\n",
    "plt.title('G channel')\n",
    "plt.imshow(pic[ : , : , 1])\n",
    "\n",
    "plt.subplot(1, 3, 3)\n",
    "plt.title('B channel')\n",
    "plt.imshow(pic[ : , : , 2])\n",
    "plt.show()"
   ]
  },
  {
   "cell_type": "code",
   "execution_count": null,
   "metadata": {},
   "outputs": [],
   "source": [
    "fig, ax = plt.subplots(nrows = 1, ncols=3, figsize=(15,5))\n",
    "for c, ax in zip(range(3), ax):\n",
    "    \n",
    "    # create zero matrix\n",
    "    split_img = np.zeros(pic.shape, dtype=\"uint8\") # 'dtype' by default: 'numpy.float64'\n",
    "    \n",
    "    #Assign each color channel\n",
    "    split_img[ :, :, c] = pic[ :, :, c]\n",
    "    \n",
    "    # display each channel\n",
    "    ax.imshow(split_img)"
   ]
  },
  {
   "cell_type": "markdown",
   "metadata": {},
   "source": [
    "Why do these look so different from the above?"
   ]
  },
  {
   "cell_type": "code",
   "execution_count": 13,
   "metadata": {},
   "outputs": [],
   "source": [
    "#OK, let's get the image in grayscale using a \"Weighted average\" formula referenced here\n",
    "#https://en.wikipedia.org/wiki/Grayscale#Converting_color_to_grayscale\n",
    "\n",
    "gray = lambda rgb : np.dot(rgb[... , :3] , [0.299 , 0.587, 0.114]) \n",
    "#gray_ren = gray(pic)  \n",
    "#plt.figure( figsize = (10,10))\n",
    "#plt.imshow(gray_ren, cmap = plt.get_cmap(name = 'gray'))\n",
    "#plt.show()"
   ]
  },
  {
   "cell_type": "code",
   "execution_count": null,
   "metadata": {},
   "outputs": [],
   "source": [
    "plt.figure(figsize = (20,15))\n",
    "\n",
    "# Only Red Pixel value , higher than 180\n",
    "red_pic = pic.copy()\n",
    "red_mask = red_pic[:, :, 0] < 160\n",
    "red_pic[red_mask] = 0\n",
    "\n",
    "green_pic = pic.copy()\n",
    "green_mask = green_pic[:, :, 1] < 160\n",
    "green_pic[green_mask] = 0\n",
    "\n",
    "blue_pic = pic.copy()\n",
    "blue_mask = blue_pic[:, :, 2] < 160\n",
    "blue_pic[blue_mask] = 0\n",
    "\n",
    "#PLOT THE ABOVE\n",
    "plt.subplot(1, 3, 1)\n",
    "plt.imshow(red_pic)\n",
    "plt.title('R channel')\n",
    "\n",
    "plt.subplot(1, 3, 2)\n",
    "plt.imshow(green_pic)\n",
    "plt.title('G channel')\n",
    "\n",
    "plt.subplot(1, 3, 3)\n",
    "plt.imshow(blue_pic)\n",
    "plt.title('B channel')\n",
    "\n",
    "plt.show()"
   ]
  },
  {
   "cell_type": "code",
   "execution_count": null,
   "metadata": {},
   "outputs": [],
   "source": [
    "final_mask = np.logical_and(red_mask, green_mask, blue_mask)\n",
    "final_pic = pic.copy()\n",
    "final_pic[final_mask] = 40\n",
    "plt.figure(figsize=(15,15))\n",
    "plt.imshow(final_pic)"
   ]
  },
  {
   "cell_type": "code",
   "execution_count": 3,
   "metadata": {},
   "outputs": [],
   "source": [
    "#Ok, let's convert the grayscale to a simple black-white: that may help us in observing the \n",
    "#\"Fractal\" structure (and other formal qualities)\n",
    "\n",
    "def bw_convert(img,thresh):\n",
    "    bw_pic = img.copy()\n",
    "    bw_mask = bw_pic[:, :,] < thresh\n",
    "    bw_pic[bw_mask] = 0\n",
    "    bw_pic[~bw_mask] = 1\n",
    "    \n",
    "    return bw_pic"
   ]
  },
  {
   "cell_type": "code",
   "execution_count": null,
   "metadata": {},
   "outputs": [],
   "source": [
    "bw_pic = bw_convert(gray_ren,150)\n",
    "\n",
    "plt.figure(figsize = (20,15))\n",
    "plt.imshow(bw_pic)"
   ]
  },
  {
   "cell_type": "markdown",
   "metadata": {},
   "source": [
    "Ok, let's see if we can compute the fractal dimension of the above. "
   ]
  },
  {
   "cell_type": "code",
   "execution_count": null,
   "metadata": {},
   "outputs": [],
   "source": [
    "# finding all the non-zero pixels\n",
    "\n",
    "pixels=[]\n",
    "for i in range(bw_pic.shape[0]):\n",
    "    for j in range(bw_pic.shape[1]):\n",
    "        if bw_pic[i,j]>0:\n",
    "            pixels.append((i,j))"
   ]
  },
  {
   "cell_type": "code",
   "execution_count": null,
   "metadata": {},
   "outputs": [],
   "source": [
    "Lx=bw_pic.shape[1]\n",
    "Ly=bw_pic.shape[0]\n",
    "\n",
    "pixels=pl.array(pixels)\n",
    " \n",
    "# computing the fractal dimension\n",
    "#considering only scales in a logarithmic list\n",
    "scales=np.logspace(0.01, 1, num=10, endpoint=False, base=2)\n",
    "\n",
    "Ns=[]\n",
    "# looping over several scales\n",
    "for scale in scales:\n",
    "    print (\"======= Scale :\",scale)\n",
    "    # computing the histogram\n",
    "    H, edges=np.histogramdd(pixels, bins=(np.arange(0,Lx,scale),np.arange(0,Ly,scale)))\n",
    "    Ns.append(np.sum(H>0))"
   ]
  },
  {
   "cell_type": "code",
   "execution_count": null,
   "metadata": {},
   "outputs": [],
   "source": [
    "# linear fit, polynomial of degree 1\n",
    "coeffs=np.polyfit(np.log(scales), np.log(Ns), 1)\n",
    " \n",
    "pl.plot(np.log(scales),np.log(Ns), 'o', mfc='none')\n",
    "pl.plot(np.log(scales), np.polyval(coeffs,np.log(scales)))\n",
    "pl.xlabel('log $\\epsilon$')\n",
    "pl.ylabel('log N')"
   ]
  },
  {
   "cell_type": "code",
   "execution_count": null,
   "metadata": {},
   "outputs": [],
   "source": [
    "print (\"The Hausdorff dimension is\", -coeffs[0]) #the fractal dimension is the OPPOSITE of the fitting coefficient"
   ]
  },
  {
   "cell_type": "markdown",
   "metadata": {},
   "source": [
    "Note: 1980s formal analysis, triangular composition. "
   ]
  },
  {
   "cell_type": "code",
   "execution_count": null,
   "metadata": {},
   "outputs": [],
   "source": [
    "van = imageio.imread('Paintings/Wheat_Field.jpg')\n",
    "plt.figure(figsize = (15,15))\n",
    "plt.title('\"Wheat Field\"\\nvan Gogh')\n",
    "plt.imshow(van)"
   ]
  },
  {
   "cell_type": "code",
   "execution_count": null,
   "metadata": {},
   "outputs": [],
   "source": [
    "gray = lambda rgb : np.dot(rgb[... , :3] , [0.299 , 0.587, 0.114]) \n",
    "gray_van = gray(van)  \n",
    "plt.figure( figsize = (10,10))\n",
    "plt.imshow(gray_van, cmap = plt.get_cmap(name = 'gray'))\n",
    "plt.show()"
   ]
  },
  {
   "cell_type": "code",
   "execution_count": null,
   "metadata": {},
   "outputs": [],
   "source": [
    "bw_van = bw_convert(gray_van,130)\n",
    "\n",
    "plt.figure(figsize = (10,10))\n",
    "plt.imshow(bw_van)"
   ]
  },
  {
   "cell_type": "code",
   "execution_count": 4,
   "metadata": {},
   "outputs": [],
   "source": [
    "#Ok, let's write a formula that can convert from color to bw/binary image\n",
    "def make_bw(img,thresh=130):\n",
    "    gray = lambda rgb : np.dot(rgb[... , :3] , [0.299 , 0.587, 0.114]) \n",
    "    gray_img = gray(img)\n",
    "    bw_img = bw_convert(gray_img,thresh)\n",
    "    \n",
    "    return bw_img"
   ]
  },
  {
   "cell_type": "markdown",
   "metadata": {},
   "source": [
    "Could we write something that is able to extract/identify forms or patterns?"
   ]
  },
  {
   "cell_type": "code",
   "execution_count": 5,
   "metadata": {},
   "outputs": [
    {
     "name": "stderr",
     "output_type": "stream",
     "text": [
      "C:\\Users\\taiwo\\Anaconda3\\lib\\site-packages\\skimage\\viewer\\utils\\core.py:10: UserWarning: Recommended matplotlib backend is `Agg` for full skimage.viewer functionality.\n",
      "  warn(\"Recommended matplotlib backend is `Agg` for full \"\n"
     ]
    }
   ],
   "source": [
    "#Edge Detection\n",
    "import skimage\n",
    "import skimage.feature\n",
    "import skimage.viewer\n",
    "import sys\n",
    "from skimage.data import camera\n",
    "from skimage.filters import roberts, sobel, sobel_h, sobel_v, scharr, scharr_h, scharr_v, prewitt, prewitt_v, prewitt_h"
   ]
  },
  {
   "cell_type": "code",
   "execution_count": 6,
   "metadata": {},
   "outputs": [
    {
     "ename": "NameError",
     "evalue": "name 'bw_van' is not defined",
     "output_type": "error",
     "traceback": [
      "\u001b[1;31m---------------------------------------------------------------------------\u001b[0m",
      "\u001b[1;31mNameError\u001b[0m                                 Traceback (most recent call last)",
      "\u001b[1;32m<ipython-input-6-04bd52279db0>\u001b[0m in \u001b[0;36m<module>\u001b[1;34m\u001b[0m\n\u001b[1;32m----> 1\u001b[1;33m \u001b[0medge_scharr\u001b[0m \u001b[1;33m=\u001b[0m \u001b[0mscharr\u001b[0m\u001b[1;33m(\u001b[0m\u001b[0mbw_van\u001b[0m\u001b[1;33m)\u001b[0m\u001b[1;33m\u001b[0m\u001b[1;33m\u001b[0m\u001b[0m\n\u001b[0m\u001b[0;32m      2\u001b[0m \u001b[0medge_prewitt\u001b[0m \u001b[1;33m=\u001b[0m \u001b[0mprewitt\u001b[0m\u001b[1;33m(\u001b[0m\u001b[0mbw_van\u001b[0m\u001b[1;33m)\u001b[0m\u001b[1;33m\u001b[0m\u001b[1;33m\u001b[0m\u001b[0m\n\u001b[0;32m      3\u001b[0m \u001b[1;33m\u001b[0m\u001b[0m\n\u001b[0;32m      4\u001b[0m fig, ax = plt.subplots(ncols=2, sharex=True, sharey=True,\n\u001b[0;32m      5\u001b[0m                        figsize=(40,20))\n",
      "\u001b[1;31mNameError\u001b[0m: name 'bw_van' is not defined"
     ]
    }
   ],
   "source": [
    "edge_scharr = scharr(bw_van)\n",
    "edge_prewitt = prewitt(bw_van)\n",
    "\n",
    "fig, ax = plt.subplots(ncols=2, sharex=True, sharey=True,\n",
    "                       figsize=(40,20))\n",
    "\n",
    "ax[0].imshow(edge_scharr, cmap=plt.cm.gray)\n",
    "ax[0].set_title('Scharr Edge Detection')\n",
    "\n",
    "ax[1].imshow(edge_prewitt, cmap=plt.cm.gray)\n",
    "ax[1].set_title('Prewitt Edge Detection')\n",
    "\n",
    "for a in ax:\n",
    "    a.axis('off')\n",
    "\n",
    "plt.tight_layout()\n",
    "plt.show()\n"
   ]
  },
  {
   "cell_type": "code",
   "execution_count": 7,
   "metadata": {},
   "outputs": [],
   "source": [
    "from skimage import data, segmentation, filters, color\n",
    "from skimage.future import graph\n",
    "from matplotlib import pyplot as plt\n",
    "\n",
    "def weight_boundary(graph, src, dst, n):\n",
    "    default = {'weight': 0.0, 'count': 0}\n",
    "\n",
    "    count_src = graph[src].get(n, default)['count']\n",
    "    count_dst = graph[dst].get(n, default)['count']\n",
    "\n",
    "    weight_src = graph[src].get(n, default)['weight']\n",
    "    weight_dst = graph[dst].get(n, default)['weight']\n",
    "\n",
    "    count = count_src + count_dst\n",
    "    return {\n",
    "        'count': count,\n",
    "        'weight': (count_src * weight_src + count_dst * weight_dst)/count\n",
    "    }\n",
    "\n",
    "\n",
    "def merge_boundary(graph, src, dst):\n",
    "    \"\"\"Call back called before merging 2 nodes.\n",
    "\n",
    "    In this case we don't need to do any computation here.\n",
    "    \"\"\"\n",
    "    pass"
   ]
  },
  {
   "cell_type": "code",
   "execution_count": null,
   "metadata": {},
   "outputs": [],
   "source": [
    "img = gray_van.copy()\n",
    "edges = filters.sobel(img)\n",
    "labels = segmentation.slic(img, compactness=60, n_segments=20)\n",
    "g = graph.rag_boundary(labels, edges)\n",
    "labels2 = graph.merge_hierarchical(labels, g, thresh=0.08, rag_copy=False,\n",
    "                                   in_place_merge=True,\n",
    "                                   merge_func=merge_boundary,\n",
    "                                   weight_func=weight_boundary)\n",
    "\n",
    "plt.figure(figsize = (20,15))\n",
    "out = color.label2rgb(labels2, img, kind='avg')\n",
    "plt.imshow(out)\n",
    "plt.show()"
   ]
  },
  {
   "cell_type": "markdown",
   "metadata": {},
   "source": [
    "Ok, so the above segmented the image into color blocks. And it looks nice and intuitive. Now let's write our own edge detector that returns a \"1\" wherever there is a change in value. "
   ]
  },
  {
   "cell_type": "code",
   "execution_count": 8,
   "metadata": {},
   "outputs": [
    {
     "ename": "NameError",
     "evalue": "name 'out' is not defined",
     "output_type": "error",
     "traceback": [
      "\u001b[1;31m---------------------------------------------------------------------------\u001b[0m",
      "\u001b[1;31mNameError\u001b[0m                                 Traceback (most recent call last)",
      "\u001b[1;32m<ipython-input-8-ce8a9177cc8c>\u001b[0m in \u001b[0;36m<module>\u001b[1;34m\u001b[0m\n\u001b[0;32m      2\u001b[0m \u001b[1;33m\u001b[0m\u001b[0m\n\u001b[0;32m      3\u001b[0m \u001b[0mpixels\u001b[0m\u001b[1;33m=\u001b[0m\u001b[1;33m[\u001b[0m\u001b[1;33m]\u001b[0m\u001b[1;33m\u001b[0m\u001b[1;33m\u001b[0m\u001b[0m\n\u001b[1;32m----> 4\u001b[1;33m \u001b[1;32mfor\u001b[0m \u001b[0mi\u001b[0m \u001b[1;32min\u001b[0m \u001b[0mrange\u001b[0m\u001b[1;33m(\u001b[0m\u001b[0mout\u001b[0m\u001b[1;33m.\u001b[0m\u001b[0mshape\u001b[0m\u001b[1;33m[\u001b[0m\u001b[1;36m0\u001b[0m\u001b[1;33m]\u001b[0m\u001b[1;33m)\u001b[0m\u001b[1;33m:\u001b[0m\u001b[1;33m\u001b[0m\u001b[1;33m\u001b[0m\u001b[0m\n\u001b[0m\u001b[0;32m      5\u001b[0m     \u001b[1;32mfor\u001b[0m \u001b[0mj\u001b[0m \u001b[1;32min\u001b[0m \u001b[0mrange\u001b[0m\u001b[1;33m(\u001b[0m\u001b[0mout\u001b[0m\u001b[1;33m.\u001b[0m\u001b[0mshape\u001b[0m\u001b[1;33m[\u001b[0m\u001b[1;36m1\u001b[0m\u001b[1;33m]\u001b[0m\u001b[1;33m)\u001b[0m\u001b[1;33m:\u001b[0m\u001b[1;33m\u001b[0m\u001b[1;33m\u001b[0m\u001b[0m\n\u001b[0;32m      6\u001b[0m         \u001b[1;32mif\u001b[0m \u001b[0mi\u001b[0m\u001b[1;33m==\u001b[0m\u001b[1;36m0\u001b[0m\u001b[1;33m:\u001b[0m\u001b[1;33m\u001b[0m\u001b[1;33m\u001b[0m\u001b[0m\n",
      "\u001b[1;31mNameError\u001b[0m: name 'out' is not defined"
     ]
    }
   ],
   "source": [
    "# finding all the non-zero pixels\n",
    "\n",
    "pixels=[]\n",
    "for i in range(out.shape[0]):\n",
    "    for j in range(out.shape[1]):\n",
    "        if i==0:\n",
    "            pixels.append(0)\n",
    "        elif j==0:\n",
    "            pixels.append(0)\n",
    "        elif i==out.shape[0]-1: ##\n",
    "            pixels.append(0)\n",
    "        elif j==out.shape[1]-1: ##\n",
    "            pixels.append(0)\n",
    "        \n",
    "        elif out[i,j]!=out[i-1,j]:\n",
    "            pixels.append(1)\n",
    "        elif out[i,j]!=out[i,j+1]:\n",
    "            pixels.append(1)\n",
    "            \n",
    "        elif out[i,j]!=out[i+1,j]:\n",
    "            pixels.append(1)\n",
    "        elif out[i,j]!=out[i,j+1]:\n",
    "            pixels.append(1)\n",
    "        else:\n",
    "            pixels.append(0)\n",
    "\n",
    "pixels_matrix = np.array(pixels).reshape(out.shape)"
   ]
  },
  {
   "cell_type": "code",
   "execution_count": null,
   "metadata": {},
   "outputs": [],
   "source": [
    "plt.figure(figsize = (25,25))\n",
    "plt.spy(pixels_matrix)"
   ]
  },
  {
   "cell_type": "code",
   "execution_count": null,
   "metadata": {},
   "outputs": [],
   "source": [
    "plt.spy(pixels_matrix[800:1200, 800:1200])"
   ]
  },
  {
   "cell_type": "markdown",
   "metadata": {},
   "source": [
    "Ok, so the above gets the edges. But they are so faint, and also quite rough....is there a way to make them smoother, and also to make them thicker (just for the sake of visibility)?"
   ]
  },
  {
   "cell_type": "markdown",
   "metadata": {},
   "source": [
    "Actually, interpolation itself would make this smoother. "
   ]
  },
  {
   "cell_type": "markdown",
   "metadata": {},
   "source": [
    "Ok, let's write a formula that does all of the above. "
   ]
  },
  {
   "cell_type": "code",
   "execution_count": 9,
   "metadata": {},
   "outputs": [],
   "source": [
    "def get_edges(image):\n",
    "    gray_img = gray(image)  \n",
    "    \n",
    "    edges = filters.sobel(gray_img)\n",
    "    labels = segmentation.slic(gray_img, compactness=30, n_segments=10)\n",
    "    g = graph.rag_boundary(labels, edges)\n",
    "    labels2 = graph.merge_hierarchical(labels, g, thresh=0.08, rag_copy=False,\n",
    "                                       in_place_merge=True,\n",
    "                                       merge_func=merge_boundary,\n",
    "                                       weight_func=weight_boundary)\n",
    "\n",
    "    out = color.label2rgb(labels2, gray_img, kind='avg')\n",
    "    \n",
    "    # finding all the non-zero pixels\n",
    "    pixels=[]\n",
    "    for i in range(out.shape[0]):\n",
    "        for j in range(out.shape[1]):\n",
    "            if i==0:\n",
    "                pixels.append(0)\n",
    "            elif j==0:\n",
    "                pixels.append(0)\n",
    "            elif i==out.shape[0]-1: ##\n",
    "                pixels.append(0)\n",
    "            elif j==out.shape[1]-1: ##\n",
    "                pixels.append(0)\n",
    "\n",
    "            elif out[i,j]!=out[i-1,j]:\n",
    "                pixels.append(1)\n",
    "            elif out[i,j]!=out[i,j+1]:\n",
    "                pixels.append(1)\n",
    "\n",
    "            elif out[i,j]!=out[i+1,j]:\n",
    "                pixels.append(1)\n",
    "            elif out[i,j]!=out[i,j+1]:\n",
    "                pixels.append(1)\n",
    "            else:\n",
    "                pixels.append(0)\n",
    "\n",
    "    pixels_matrix = np.array(pixels).reshape(out.shape)\n",
    "    \n",
    "    return pixels_matrix"
   ]
  },
  {
   "cell_type": "code",
   "execution_count": null,
   "metadata": {},
   "outputs": [],
   "source": [
    "Rothko = imageio.imread('Paintings/Rothko.jpeg')\n",
    "plt.figure(figsize = (15,15))\n",
    "plt.title('\"Orange and Yellow\"\\nRothko')\n",
    "plt.imshow(Rothko)"
   ]
  },
  {
   "cell_type": "code",
   "execution_count": null,
   "metadata": {},
   "outputs": [],
   "source": [
    "rothko_edges = get_edges(Rothko)\n",
    "plt.figure(figsize = (15,15))\n",
    "plt.spy(rothko_edges)"
   ]
  },
  {
   "cell_type": "code",
   "execution_count": 10,
   "metadata": {},
   "outputs": [
    {
     "data": {
      "text/plain": [
       "<matplotlib.image.AxesImage at 0x217c287bb38>"
      ]
     },
     "execution_count": 10,
     "metadata": {},
     "output_type": "execute_result"
    },
    {
     "data": {
      "image/png": "[encoded data removed]",
      "text/plain": [
       "<Figure size 1080x1080 with 1 Axes>"
      ]
     },
     "metadata": {
      "needs_background": "light"
     },
     "output_type": "display_data"
    }
   ],
   "source": [
    "squirrel = imageio.imread('Paintings/squirrel.jpg')\n",
    "plt.figure(figsize = (15,15))\n",
    "plt.title('\"Squirrel - Line Drawing\"\\nPicasso')\n",
    "plt.imshow(squirrel)"
   ]
  },
  {
   "cell_type": "code",
   "execution_count": 14,
   "metadata": {},
   "outputs": [
    {
     "data": {
      "text/plain": [
       "<matplotlib.image.AxesImage at 0x217c2d7c668>"
      ]
     },
     "execution_count": 14,
     "metadata": {},
     "output_type": "execute_result"
    },
    {
     "data": {
      "image/png": "[encoded data removed]",
      "text/plain": [
       "<Figure size 1080x1080 with 1 Axes>"
      ]
     },
     "metadata": {
      "needs_background": "light"
     },
     "output_type": "display_data"
    }
   ],
   "source": [
    "squirrel_edges = get_edges(squirrel)\n",
    "plt.figure(figsize = (15,15))\n",
    "plt.spy(squirrel_edges)"
   ]
  },
  {
   "cell_type": "code",
   "execution_count": 15,
   "metadata": {},
   "outputs": [
    {
     "data": {
      "text/plain": [
       "<matplotlib.image.AxesImage at 0x217c2bb6748>"
      ]
     },
     "execution_count": 15,
     "metadata": {},
     "output_type": "execute_result"
    },
    {
     "data": {
      "image/png": "[encoded data removed]",
      "text/plain": [
       "<Figure size 720x720 with 1 Axes>"
      ]
     },
     "metadata": {
      "needs_background": "light"
     },
     "output_type": "display_data"
    }
   ],
   "source": [
    "bw_sq = make_bw(squirrel,130)\n",
    "plt.figure(figsize = (10,10))\n",
    "plt.imshow(bw_sq)"
   ]
  },
  {
   "cell_type": "code",
   "execution_count": 16,
   "metadata": {},
   "outputs": [
    {
     "data": {
      "image/png": "[encoded data removed]",
      "text/plain": [
       "<Figure size 2880x1440 with 2 Axes>"
      ]
     },
     "metadata": {
      "needs_background": "light"
     },
     "output_type": "display_data"
    }
   ],
   "source": [
    "edge_scharr = scharr(bw_sq)\n",
    "edge_prewitt = prewitt(bw_sq)\n",
    "\n",
    "fig, ax = plt.subplots(ncols=2, sharex=True, sharey=True,\n",
    "                       figsize=(40,20))\n",
    "\n",
    "ax[0].imshow(edge_scharr, cmap=plt.cm.gray)\n",
    "ax[0].set_title('Scharr Edge Detection')\n",
    "\n",
    "ax[1].imshow(edge_prewitt, cmap=plt.cm.gray)\n",
    "ax[1].set_title('Prewitt Edge Detection')\n",
    "\n",
    "for a in ax:\n",
    "    a.axis('off')\n",
    "\n",
    "plt.tight_layout()\n",
    "plt.show()"
   ]
  },
  {
   "cell_type": "markdown",
   "metadata": {},
   "source": [
    "Ok, great! Edge detection using existing Python packages actually works pretty great for Picasso's line drawings. But you need to follow the following steps: 1. convert to BW; 2. convert to binary. "
   ]
  },
  {
   "cell_type": "code",
   "execution_count": 19,
   "metadata": {},
   "outputs": [
    {
     "data": {
      "text/plain": [
       "(335, 332)"
      ]
     },
     "execution_count": 19,
     "metadata": {},
     "output_type": "execute_result"
    }
   ],
   "source": [
    "edge_scharr.shape"
   ]
  },
  {
   "cell_type": "code",
   "execution_count": 38,
   "metadata": {},
   "outputs": [
    {
     "data": {
      "text/plain": [
       "array([[0., 0., 0., ..., 0., 0., 0.],\n",
       "       [0., 0., 0., ..., 0., 0., 0.],\n",
       "       [0., 0., 0., ..., 0., 0., 0.],\n",
       "       ...,\n",
       "       [0., 0., 0., ..., 0., 0., 0.],\n",
       "       [0., 0., 0., ..., 0., 0., 0.],\n",
       "       [0., 0., 0., ..., 0., 0., 0.]])"
      ]
     },
     "execution_count": 38,
     "metadata": {},
     "output_type": "execute_result"
    }
   ],
   "source": [
    "edge_scharr"
   ]
  },
  {
   "cell_type": "code",
   "execution_count": 52,
   "metadata": {},
   "outputs": [
    {
     "data": {
      "text/plain": [
       "<matplotlib.collections.PathCollection at 0x217c7962b00>"
      ]
     },
     "execution_count": 52,
     "metadata": {},
     "output_type": "execute_result"
    },
    {
     "data": {
      "image/png": "[encoded data removed]",
      "text/plain": [
       "<Figure size 432x288 with 1 Axes>"
      ]
     },
     "metadata": {
      "needs_background": "light"
     },
     "output_type": "display_data"
    }
   ],
   "source": [
    "list_of_points = []\n",
    "\n",
    "for i in range (edge_scharr.shape[0]):\n",
    "    for j in range (edge_scharr.shape[1]):\n",
    "        if edge_scharr[i][j]!=0:\n",
    "            list_of_points.append((i,j))\n",
    "\n",
    "list_of_points\n",
    "testList2 = [(elem1, elem2) for elem1, elem2 in list_of_points]\n",
    "#zip(*testList2)\n",
    "\n",
    "plt.scatter(*zip(*testList2), s=1)"
   ]
  },
  {
   "cell_type": "code",
   "execution_count": 53,
   "metadata": {},
   "outputs": [],
   "source": [
    "\n",
    "from skimage.morphology import skeletonize, thin\n",
    "from skimage import data\n",
    "import matplotlib.pyplot as plt\n",
    "from skimage.util import invert\n",
    "import imageio\n",
    "from scipy import misc\n",
    "from skimage import color\n",
    "from skimage import measure\n",
    "\n",
    "#Set up workspace\n",
    "import os\n",
    "import pandas as pd\n",
    "import numpy as np\n",
    "import matplotlib.pyplot as plt\n",
    "import math\n",
    "import imageio\n",
    "import pylab as plx"
   ]
  },
  {
   "cell_type": "code",
   "execution_count": 55,
   "metadata": {},
   "outputs": [
    {
     "data": {
      "text/plain": [
       "array([283.        , 282.9934212 , 282.94932511, ..., 283.28065618,\n",
       "       283.12265564, 283.        ])"
      ]
     },
     "execution_count": 55,
     "metadata": {},
     "output_type": "execute_result"
    },
    {
     "data": {
      "image/png": "[encoded data removed]",
      "text/plain": [
       "<Figure size 432x288 with 1 Axes>"
      ]
     },
     "metadata": {
      "needs_background": "light"
     },
     "output_type": "display_data"
    }
   ],
   "source": [
    "fimg = imageio.imread(\"Paintings/squirrel.jpg\")\n",
    "gimg = color.colorconv.rgb2grey(fimg)\n",
    "contours = measure.find_contours(gimg, 0.8)\n",
    "# print(np.array(contours).shape)\n",
    "# print(contours)\n",
    "\n",
    "contours_nd = np.array(contours)\n",
    "\n",
    "for n, contour in enumerate(contours):\n",
    "    plt.plot(contour[:, 1], contour[:, 0], linewidth=2)\n",
    "\n",
    "    \n",
    "contours_nd[0, :, 0]"
   ]
  },
  {
   "cell_type": "code",
   "execution_count": 75,
   "metadata": {},
   "outputs": [
    {
     "data": {
      "text/html": [
       "<div>\n",
       "<style scoped>\n",
       "    .dataframe tbody tr th:only-of-type {\n",
       "        vertical-align: middle;\n",
       "    }\n",
       "\n",
       "    .dataframe tbody tr th {\n",
       "        vertical-align: top;\n",
       "    }\n",
       "\n",
       "    .dataframe thead th {\n",
       "        text-align: right;\n",
       "    }\n",
       "</style>\n",
       "<table border=\"1\" class=\"dataframe\">\n",
       "  <thead>\n",
       "    <tr style=\"text-align: right;\">\n",
       "      <th></th>\n",
       "      <th>0</th>\n",
       "      <th>1</th>\n",
       "    </tr>\n",
       "  </thead>\n",
       "  <tbody>\n",
       "    <tr>\n",
       "      <th>0</th>\n",
       "      <td>283.000000</td>\n",
       "      <td>180.849863</td>\n",
       "    </tr>\n",
       "    <tr>\n",
       "      <th>1</th>\n",
       "      <td>282.993421</td>\n",
       "      <td>181.000000</td>\n",
       "    </tr>\n",
       "    <tr>\n",
       "      <th>2</th>\n",
       "      <td>282.949325</td>\n",
       "      <td>182.000000</td>\n",
       "    </tr>\n",
       "    <tr>\n",
       "      <th>3</th>\n",
       "      <td>282.867760</td>\n",
       "      <td>183.000000</td>\n",
       "    </tr>\n",
       "    <tr>\n",
       "      <th>4</th>\n",
       "      <td>282.856885</td>\n",
       "      <td>184.000000</td>\n",
       "    </tr>\n",
       "    <tr>\n",
       "      <th>5</th>\n",
       "      <td>282.809663</td>\n",
       "      <td>185.000000</td>\n",
       "    </tr>\n",
       "    <tr>\n",
       "      <th>6</th>\n",
       "      <td>282.677946</td>\n",
       "      <td>186.000000</td>\n",
       "    </tr>\n",
       "    <tr>\n",
       "      <th>7</th>\n",
       "      <td>282.527682</td>\n",
       "      <td>187.000000</td>\n",
       "    </tr>\n",
       "    <tr>\n",
       "      <th>8</th>\n",
       "      <td>282.491899</td>\n",
       "      <td>188.000000</td>\n",
       "    </tr>\n",
       "    <tr>\n",
       "      <th>9</th>\n",
       "      <td>282.456901</td>\n",
       "      <td>189.000000</td>\n",
       "    </tr>\n",
       "    <tr>\n",
       "      <th>10</th>\n",
       "      <td>282.230172</td>\n",
       "      <td>190.000000</td>\n",
       "    </tr>\n",
       "    <tr>\n",
       "      <th>11</th>\n",
       "      <td>282.101095</td>\n",
       "      <td>191.000000</td>\n",
       "    </tr>\n",
       "    <tr>\n",
       "      <th>12</th>\n",
       "      <td>282.000000</td>\n",
       "      <td>191.497740</td>\n",
       "    </tr>\n",
       "    <tr>\n",
       "      <th>13</th>\n",
       "      <td>281.972644</td>\n",
       "      <td>192.000000</td>\n",
       "    </tr>\n",
       "    <tr>\n",
       "      <th>14</th>\n",
       "      <td>281.880445</td>\n",
       "      <td>193.000000</td>\n",
       "    </tr>\n",
       "    <tr>\n",
       "      <th>15</th>\n",
       "      <td>281.796433</td>\n",
       "      <td>194.000000</td>\n",
       "    </tr>\n",
       "    <tr>\n",
       "      <th>16</th>\n",
       "      <td>281.749670</td>\n",
       "      <td>195.000000</td>\n",
       "    </tr>\n",
       "    <tr>\n",
       "      <th>17</th>\n",
       "      <td>281.686923</td>\n",
       "      <td>196.000000</td>\n",
       "    </tr>\n",
       "    <tr>\n",
       "      <th>18</th>\n",
       "      <td>281.583631</td>\n",
       "      <td>197.000000</td>\n",
       "    </tr>\n",
       "    <tr>\n",
       "      <th>19</th>\n",
       "      <td>281.430382</td>\n",
       "      <td>198.000000</td>\n",
       "    </tr>\n",
       "    <tr>\n",
       "      <th>20</th>\n",
       "      <td>281.139163</td>\n",
       "      <td>199.000000</td>\n",
       "    </tr>\n",
       "    <tr>\n",
       "      <th>21</th>\n",
       "      <td>281.000000</td>\n",
       "      <td>199.220833</td>\n",
       "    </tr>\n",
       "    <tr>\n",
       "      <th>22</th>\n",
       "      <td>280.870929</td>\n",
       "      <td>200.000000</td>\n",
       "    </tr>\n",
       "    <tr>\n",
       "      <th>23</th>\n",
       "      <td>280.756629</td>\n",
       "      <td>201.000000</td>\n",
       "    </tr>\n",
       "    <tr>\n",
       "      <th>24</th>\n",
       "      <td>280.705925</td>\n",
       "      <td>202.000000</td>\n",
       "    </tr>\n",
       "    <tr>\n",
       "      <th>25</th>\n",
       "      <td>280.673363</td>\n",
       "      <td>203.000000</td>\n",
       "    </tr>\n",
       "    <tr>\n",
       "      <th>26</th>\n",
       "      <td>280.524800</td>\n",
       "      <td>204.000000</td>\n",
       "    </tr>\n",
       "    <tr>\n",
       "      <th>27</th>\n",
       "      <td>280.163857</td>\n",
       "      <td>205.000000</td>\n",
       "    </tr>\n",
       "    <tr>\n",
       "      <th>28</th>\n",
       "      <td>280.000000</td>\n",
       "      <td>205.290212</td>\n",
       "    </tr>\n",
       "    <tr>\n",
       "      <th>29</th>\n",
       "      <td>279.880236</td>\n",
       "      <td>206.000000</td>\n",
       "    </tr>\n",
       "    <tr>\n",
       "      <th>...</th>\n",
       "      <td>...</td>\n",
       "      <td>...</td>\n",
       "    </tr>\n",
       "    <tr>\n",
       "      <th>3147</th>\n",
       "      <td>282.645703</td>\n",
       "      <td>153.000000</td>\n",
       "    </tr>\n",
       "    <tr>\n",
       "      <th>3148</th>\n",
       "      <td>282.680380</td>\n",
       "      <td>154.000000</td>\n",
       "    </tr>\n",
       "    <tr>\n",
       "      <th>3149</th>\n",
       "      <td>282.749127</td>\n",
       "      <td>155.000000</td>\n",
       "    </tr>\n",
       "    <tr>\n",
       "      <th>3150</th>\n",
       "      <td>282.816092</td>\n",
       "      <td>156.000000</td>\n",
       "    </tr>\n",
       "    <tr>\n",
       "      <th>3151</th>\n",
       "      <td>282.865206</td>\n",
       "      <td>157.000000</td>\n",
       "    </tr>\n",
       "    <tr>\n",
       "      <th>3152</th>\n",
       "      <td>282.883280</td>\n",
       "      <td>158.000000</td>\n",
       "    </tr>\n",
       "    <tr>\n",
       "      <th>3153</th>\n",
       "      <td>282.871448</td>\n",
       "      <td>159.000000</td>\n",
       "    </tr>\n",
       "    <tr>\n",
       "      <th>3154</th>\n",
       "      <td>282.866645</td>\n",
       "      <td>160.000000</td>\n",
       "    </tr>\n",
       "    <tr>\n",
       "      <th>3155</th>\n",
       "      <td>282.836367</td>\n",
       "      <td>161.000000</td>\n",
       "    </tr>\n",
       "    <tr>\n",
       "      <th>3156</th>\n",
       "      <td>282.833732</td>\n",
       "      <td>162.000000</td>\n",
       "    </tr>\n",
       "    <tr>\n",
       "      <th>3157</th>\n",
       "      <td>282.878103</td>\n",
       "      <td>163.000000</td>\n",
       "    </tr>\n",
       "    <tr>\n",
       "      <th>3158</th>\n",
       "      <td>282.982881</td>\n",
       "      <td>164.000000</td>\n",
       "    </tr>\n",
       "    <tr>\n",
       "      <th>3159</th>\n",
       "      <td>283.000000</td>\n",
       "      <td>164.119392</td>\n",
       "    </tr>\n",
       "    <tr>\n",
       "      <th>3160</th>\n",
       "      <td>283.319061</td>\n",
       "      <td>165.000000</td>\n",
       "    </tr>\n",
       "    <tr>\n",
       "      <th>3161</th>\n",
       "      <td>283.472081</td>\n",
       "      <td>166.000000</td>\n",
       "    </tr>\n",
       "    <tr>\n",
       "      <th>3162</th>\n",
       "      <td>283.512329</td>\n",
       "      <td>167.000000</td>\n",
       "    </tr>\n",
       "    <tr>\n",
       "      <th>3163</th>\n",
       "      <td>283.504536</td>\n",
       "      <td>168.000000</td>\n",
       "    </tr>\n",
       "    <tr>\n",
       "      <th>3164</th>\n",
       "      <td>283.511356</td>\n",
       "      <td>169.000000</td>\n",
       "    </tr>\n",
       "    <tr>\n",
       "      <th>3165</th>\n",
       "      <td>283.525966</td>\n",
       "      <td>170.000000</td>\n",
       "    </tr>\n",
       "    <tr>\n",
       "      <th>3166</th>\n",
       "      <td>283.543169</td>\n",
       "      <td>171.000000</td>\n",
       "    </tr>\n",
       "    <tr>\n",
       "      <th>3167</th>\n",
       "      <td>283.570797</td>\n",
       "      <td>172.000000</td>\n",
       "    </tr>\n",
       "    <tr>\n",
       "      <th>3168</th>\n",
       "      <td>283.611685</td>\n",
       "      <td>173.000000</td>\n",
       "    </tr>\n",
       "    <tr>\n",
       "      <th>3169</th>\n",
       "      <td>283.617784</td>\n",
       "      <td>174.000000</td>\n",
       "    </tr>\n",
       "    <tr>\n",
       "      <th>3170</th>\n",
       "      <td>283.562605</td>\n",
       "      <td>175.000000</td>\n",
       "    </tr>\n",
       "    <tr>\n",
       "      <th>3171</th>\n",
       "      <td>283.422948</td>\n",
       "      <td>176.000000</td>\n",
       "    </tr>\n",
       "    <tr>\n",
       "      <th>3172</th>\n",
       "      <td>283.239356</td>\n",
       "      <td>177.000000</td>\n",
       "    </tr>\n",
       "    <tr>\n",
       "      <th>3173</th>\n",
       "      <td>283.221221</td>\n",
       "      <td>178.000000</td>\n",
       "    </tr>\n",
       "    <tr>\n",
       "      <th>3174</th>\n",
       "      <td>283.280656</td>\n",
       "      <td>179.000000</td>\n",
       "    </tr>\n",
       "    <tr>\n",
       "      <th>3175</th>\n",
       "      <td>283.122656</td>\n",
       "      <td>180.000000</td>\n",
       "    </tr>\n",
       "    <tr>\n",
       "      <th>3176</th>\n",
       "      <td>283.000000</td>\n",
       "      <td>180.849863</td>\n",
       "    </tr>\n",
       "  </tbody>\n",
       "</table>\n",
       "<p>3177 rows × 2 columns</p>\n",
       "</div>"
      ],
      "text/plain": [
       "               0           1\n",
       "0     283.000000  180.849863\n",
       "1     282.993421  181.000000\n",
       "2     282.949325  182.000000\n",
       "3     282.867760  183.000000\n",
       "4     282.856885  184.000000\n",
       "5     282.809663  185.000000\n",
       "6     282.677946  186.000000\n",
       "7     282.527682  187.000000\n",
       "8     282.491899  188.000000\n",
       "9     282.456901  189.000000\n",
       "10    282.230172  190.000000\n",
       "11    282.101095  191.000000\n",
       "12    282.000000  191.497740\n",
       "13    281.972644  192.000000\n",
       "14    281.880445  193.000000\n",
       "15    281.796433  194.000000\n",
       "16    281.749670  195.000000\n",
       "17    281.686923  196.000000\n",
       "18    281.583631  197.000000\n",
       "19    281.430382  198.000000\n",
       "20    281.139163  199.000000\n",
       "21    281.000000  199.220833\n",
       "22    280.870929  200.000000\n",
       "23    280.756629  201.000000\n",
       "24    280.705925  202.000000\n",
       "25    280.673363  203.000000\n",
       "26    280.524800  204.000000\n",
       "27    280.163857  205.000000\n",
       "28    280.000000  205.290212\n",
       "29    279.880236  206.000000\n",
       "...          ...         ...\n",
       "3147  282.645703  153.000000\n",
       "3148  282.680380  154.000000\n",
       "3149  282.749127  155.000000\n",
       "3150  282.816092  156.000000\n",
       "3151  282.865206  157.000000\n",
       "3152  282.883280  158.000000\n",
       "3153  282.871448  159.000000\n",
       "3154  282.866645  160.000000\n",
       "3155  282.836367  161.000000\n",
       "3156  282.833732  162.000000\n",
       "3157  282.878103  163.000000\n",
       "3158  282.982881  164.000000\n",
       "3159  283.000000  164.119392\n",
       "3160  283.319061  165.000000\n",
       "3161  283.472081  166.000000\n",
       "3162  283.512329  167.000000\n",
       "3163  283.504536  168.000000\n",
       "3164  283.511356  169.000000\n",
       "3165  283.525966  170.000000\n",
       "3166  283.543169  171.000000\n",
       "3167  283.570797  172.000000\n",
       "3168  283.611685  173.000000\n",
       "3169  283.617784  174.000000\n",
       "3170  283.562605  175.000000\n",
       "3171  283.422948  176.000000\n",
       "3172  283.239356  177.000000\n",
       "3173  283.221221  178.000000\n",
       "3174  283.280656  179.000000\n",
       "3175  283.122656  180.000000\n",
       "3176  283.000000  180.849863\n",
       "\n",
       "[3177 rows x 2 columns]"
      ]
     },
     "execution_count": 75,
     "metadata": {},
     "output_type": "execute_result"
    }
   ],
   "source": [
    "raw_point_array= contours_nd[0]\n",
    "import pandas as pd\n",
    "df = pd.DataFrame(raw_point_array)\n",
    "df"
   ]
  },
  {
   "cell_type": "code",
   "execution_count": 89,
   "metadata": {},
   "outputs": [
    {
     "data": {
      "text/plain": [
       "<matplotlib.collections.PathCollection at 0x217c66f4eb8>"
      ]
     },
     "execution_count": 89,
     "metadata": {},
     "output_type": "execute_result"
    },
    {
     "data": {
      "image/png": "[encoded data removed]",
      "text/plain": [
       "<Figure size 432x288 with 1 Axes>"
      ]
     },
     "metadata": {
      "needs_background": "light"
     },
     "output_type": "display_data"
    }
   ],
   "source": [
    "\n",
    "df_unique = df.drop_duplicates(inplace = False) \n",
    "df_unique\n",
    "uniquified_points = df_unique.values\n",
    "\n",
    "uniquified_points_zip = [(elem1, elem2) for elem1, elem2 in uniquified_points]\n",
    "plt.scatter(*zip(*uniquified_points_zip), s=5)\n",
    "#plt.scatter(*zip(*uniquified_points_zip), s=5)"
   ]
  },
  {
   "cell_type": "code",
   "execution_count": 102,
   "metadata": {},
   "outputs": [
    {
     "data": {
      "text/plain": [
       "array([[283.        , 180.8498625 ],\n",
       "       [282.9934212 , 181.        ],\n",
       "       [282.94932511, 182.        ],\n",
       "       ...,\n",
       "       [283.22122069, 178.        ],\n",
       "       [283.28065618, 179.        ],\n",
       "       [283.12265564, 180.        ]])"
      ]
     },
     "execution_count": 102,
     "metadata": {},
     "output_type": "execute_result"
    }
   ],
   "source": [
    "uniquified_points"
   ]
  },
  {
   "cell_type": "code",
   "execution_count": 109,
   "metadata": {},
   "outputs": [],
   "source": [
    "\n",
    "#raw_point_array[i] corresponds to ith point\n",
    "\n",
    "def check_x_increasing(point1, point2): #point1 and point2 are [x1,y1], [y1,y2]\n",
    "    if point1[0] < point2[0]:\n",
    "        return True \n",
    "    else:\n",
    "        return False\n",
    "    \n",
    "def process_point_array(raw_point_array):\n",
    "    output = []\n",
    "    cutoff_ind = [0]\n",
    "    increasing_current = check_x_increasing(raw_point_array[0],raw_point_array[1])\n",
    "    for point_idx in range(len(raw_point_array)): # point = [x_coord, y_coord]\n",
    "        if point_idx !=len(raw_point_array)-1:\n",
    "            if increasing_current !=check_x_increasing(raw_point_array[point_idx], raw_point_array[point_idx+1]):\n",
    "                cutoff_ind.append(point_idx)\n",
    "                increasing_current = not increasing_current\n",
    "    cutoff_ind.append(len(raw_point_array)-1) #the last point\n",
    "    \n",
    "    for i in range(len(cutoff_ind)-1):\n",
    "        output.append(raw_point_array[cutoff_ind[i]:cutoff_ind[i+1]+1])\n",
    "        \n",
    "    return output\n",
    "\n",
    "\n",
    "#https://stackoverflow.com/questions/52524919/fourier-series-fit-in-python\n",
    "#https://stackoverflow.com/questions/31464345/fitting-a-closed-curve-to-a-set-of-points"
   ]
  },
  {
   "cell_type": "code",
   "execution_count": 111,
   "metadata": {},
   "outputs": [],
   "source": [
    "splited = process_point_array(uniquified_points)"
   ]
  },
  {
   "cell_type": "code",
   "execution_count": 112,
   "metadata": {},
   "outputs": [
    {
     "data": {
      "text/plain": [
       "array([[283.        , 180.8498625 ],\n",
       "       [282.9934212 , 181.        ],\n",
       "       [282.94932511, 182.        ],\n",
       "       [282.86776019, 183.        ],\n",
       "       [282.85688514, 184.        ],\n",
       "       [282.80966255, 185.        ],\n",
       "       [282.67794554, 186.        ],\n",
       "       [282.52768163, 187.        ],\n",
       "       [282.49189923, 188.        ],\n",
       "       [282.45690136, 189.        ],\n",
       "       [282.23017159, 190.        ],\n",
       "       [282.10109499, 191.        ],\n",
       "       [282.        , 191.49774043],\n",
       "       [281.97264408, 192.        ],\n",
       "       [281.88044487, 193.        ],\n",
       "       [281.79643322, 194.        ],\n",
       "       [281.74966982, 195.        ],\n",
       "       [281.68692333, 196.        ],\n",
       "       [281.58363054, 197.        ],\n",
       "       [281.43038224, 198.        ],\n",
       "       [281.1391626 , 199.        ],\n",
       "       [281.        , 199.22083313],\n",
       "       [280.87092897, 200.        ],\n",
       "       [280.75662868, 201.        ],\n",
       "       [280.70592454, 202.        ],\n",
       "       [280.67336319, 203.        ],\n",
       "       [280.52479996, 204.        ],\n",
       "       [280.16385717, 205.        ],\n",
       "       [280.        , 205.29021176],\n",
       "       [279.88023597, 206.        ],\n",
       "       [279.74191929, 207.        ],\n",
       "       [279.66592906, 208.        ],\n",
       "       [279.44888735, 209.        ],\n",
       "       [279.        , 209.807402  ],\n",
       "       [278.95108145, 210.        ],\n",
       "       [278.81714735, 211.        ],\n",
       "       [278.75214333, 212.        ],\n",
       "       [278.54931472, 213.        ],\n",
       "       [278.22385077, 214.        ],\n",
       "       [278.        , 214.32854524],\n",
       "       [277.85044853, 215.        ],\n",
       "       [277.70857078, 216.        ],\n",
       "       [277.5443797 , 217.        ],\n",
       "       [277.05628375, 218.        ],\n",
       "       [277.        , 218.06131458],\n",
       "       [276.7494832 , 219.        ],\n",
       "       [276.62714405, 220.        ],\n",
       "       [276.        , 220.83468265],\n",
       "       [275.90846836, 221.        ],\n",
       "       [275.71236267, 222.        ],\n",
       "       [275.5764598 , 223.        ],\n",
       "       [275.1090419 , 224.        ],\n",
       "       [275.        , 224.13206889],\n",
       "       [274.77663366, 225.        ],\n",
       "       [274.56649935, 226.        ],\n",
       "       [274.        , 226.83896349],\n",
       "       [273.92756129, 227.        ],\n",
       "       [273.65201628, 228.        ],\n",
       "       [273.21609134, 229.        ],\n",
       "       [273.        , 229.20605199],\n",
       "       [272.72689745, 230.        ],\n",
       "       [272.56198247, 231.        ],\n",
       "       [272.        , 231.74169321],\n",
       "       [271.90303176, 232.        ],\n",
       "       [271.61188537, 233.        ],\n",
       "       [271.        , 233.7349517 ],\n",
       "       [270.85601198, 234.        ],\n",
       "       [270.52684725, 235.        ],\n",
       "       [270.        , 235.56403647],\n",
       "       [269.78311008, 236.        ],\n",
       "       [269.23935624, 237.        ],\n",
       "       [269.        , 237.24824137],\n",
       "       [268.70762995, 238.        ],\n",
       "       [268.        , 238.91180236],\n",
       "       [267.93945351, 239.        ],\n",
       "       [267.63294796, 240.        ],\n",
       "       [267.        , 240.79549326],\n",
       "       [266.89599371, 241.        ],\n",
       "       [266.55961942, 242.        ],\n",
       "       [266.        , 242.82160676],\n",
       "       [265.91950549, 243.        ],\n",
       "       [265.48694457, 244.        ],\n",
       "       [265.        , 244.51492989],\n",
       "       [264.73290443, 245.        ],\n",
       "       [264.        , 245.82126879],\n",
       "       [263.87211997, 246.        ],\n",
       "       [263.53793048, 247.        ],\n",
       "       [263.        , 247.58854601],\n",
       "       [262.74778536, 248.        ],\n",
       "       [262.        , 248.83912246],\n",
       "       [261.8858973 , 249.        ],\n",
       "       [261.52204159, 250.        ],\n",
       "       [261.        , 250.5070949 ],\n",
       "       [260.70623787, 251.        ],\n",
       "       [260.        , 251.8973246 ],\n",
       "       [259.92188698, 252.        ],\n",
       "       [259.05620625, 253.        ],\n",
       "       [259.        , 253.05544869],\n",
       "       [258.55066278, 254.        ],\n",
       "       [258.        , 254.62060808],\n",
       "       [257.74792081, 255.        ],\n",
       "       [257.        , 255.88799024],\n",
       "       [256.91421176, 256.        ],\n",
       "       [256.15320873, 257.        ],\n",
       "       [256.        , 257.15712321],\n",
       "       [255.63000191, 258.        ],\n",
       "       [255.        , 258.69198548],\n",
       "       [254.81559742, 259.        ],\n",
       "       [254.19355   , 260.        ],\n",
       "       [254.        , 260.1940324 ],\n",
       "       [253.44488214, 261.        ],\n",
       "       [253.        , 261.44716481],\n",
       "       [252.67233262, 262.        ],\n",
       "       [252.        , 262.947989  ],\n",
       "       [251.96885569, 263.        ],\n",
       "       [251.09226505, 264.        ],\n",
       "       [251.        , 264.09364149],\n",
       "       [250.36870328, 265.        ],\n",
       "       [250.        , 265.37257467],\n",
       "       [249.40434304, 266.        ],\n",
       "       [249.        , 266.39643934],\n",
       "       [248.59998437, 267.        ],\n",
       "       [248.        , 267.596123  ],\n",
       "       [247.61197841, 268.        ],\n",
       "       [247.        , 268.64415785],\n",
       "       [246.73089437, 269.        ],\n",
       "       [246.        , 269.82354296],\n",
       "       [245.85248134, 270.        ],\n",
       "       [245.        , 270.82272102],\n",
       "       [244.78332569, 271.        ],\n",
       "       [244.        , 271.69199317],\n",
       "       [243.66562171, 272.        ],\n",
       "       [243.        , 272.67267777],\n",
       "       [242.64354163, 273.        ],\n",
       "       [242.        , 273.66514318],\n",
       "       [241.68651702, 274.        ],\n",
       "       [241.        , 274.69142071],\n",
       "       [240.69484542, 275.        ],\n",
       "       [240.        , 275.67575248],\n",
       "       [239.68411934, 276.        ],\n",
       "       [239.        , 276.67955432],\n",
       "       [238.68814556, 277.        ],\n",
       "       [238.        , 277.73576272],\n",
       "       [237.72907021, 278.        ],\n",
       "       [237.        , 278.69999891],\n",
       "       [236.70231824, 279.        ],\n",
       "       [236.        , 279.67429841],\n",
       "       [235.67001709, 280.        ],\n",
       "       [235.        , 280.69349048],\n",
       "       [234.70742273, 281.        ],\n",
       "       [234.        , 281.73116174],\n",
       "       [233.71590851, 282.        ],\n",
       "       [233.        , 282.69615931],\n",
       "       [232.68753972, 283.        ],\n",
       "       [232.        , 283.66593234],\n",
       "       [231.70804803, 284.        ],\n",
       "       [231.        , 284.78108013],\n",
       "       [230.77814161, 285.        ],\n",
       "       [230.        , 285.743225  ],\n",
       "       [229.51654682, 286.        ],\n",
       "       [229.        , 286.46337962],\n",
       "       [228.        , 286.91693388],\n",
       "       [227.88904307, 287.        ],\n",
       "       [227.        , 287.82654706],\n",
       "       [226.82000141, 288.        ],\n",
       "       [226.        , 288.71876667],\n",
       "       [225.6139    , 289.        ],\n",
       "       [225.        , 289.59832282],\n",
       "       [224.        , 289.91230255],\n",
       "       [223.86236011, 290.        ],\n",
       "       [223.        , 290.68315958],\n",
       "       [222.        , 290.95002097],\n",
       "       [221.91812623, 291.        ],\n",
       "       [221.        , 291.70798072],\n",
       "       [220.4499869 , 292.        ],\n",
       "       [220.        , 292.44061081],\n",
       "       [219.        , 292.77211148],\n",
       "       [218.46665309, 293.        ],\n",
       "       [218.        , 293.45620101],\n",
       "       [217.        , 293.73046786],\n",
       "       [216.        , 293.9550965 ],\n",
       "       [215.87297365, 294.        ],\n",
       "       [215.        , 294.52839359],\n",
       "       [214.        , 294.83068523],\n",
       "       [213.5499    , 295.        ],\n",
       "       [213.        , 295.43079024],\n",
       "       [212.        , 295.78180503],\n",
       "       [211.        , 295.99970342],\n",
       "       [210.99932262, 296.        ],\n",
       "       [210.        , 296.62943556],\n",
       "       [209.        , 296.85332283],\n",
       "       [208.74777009, 297.        ],\n",
       "       [208.        , 297.61478092],\n",
       "       [207.        , 297.81968255],\n",
       "       [206.31136444, 298.        ],\n",
       "       [206.        , 298.22545868],\n",
       "       [205.        , 298.62728443],\n",
       "       [204.        , 298.74230215],\n",
       "       [203.        , 298.94331359],\n",
       "       [202.90282128, 299.        ],\n",
       "       [202.        , 299.64085482],\n",
       "       [201.        , 299.82401406],\n",
       "       [200.62060808, 300.        ],\n",
       "       [200.        , 300.57459466],\n",
       "       [199.        , 300.78490989],\n",
       "       [198.        , 300.93272948],\n",
       "       [197.78329008, 301.        ],\n",
       "       [197.        , 301.5075157 ],\n",
       "       [196.        , 301.68152348],\n",
       "       [195.        , 301.72718306],\n",
       "       [194.        , 301.94328763],\n",
       "       [193.79231907, 302.        ],\n",
       "       [193.        , 302.47072235],\n",
       "       [192.        , 302.62111343],\n",
       "       [191.        , 302.74985906],\n",
       "       [190.        , 302.98516524],\n",
       "       [189.953765  , 303.        ],\n",
       "       [189.        , 303.54315306],\n",
       "       [188.        , 303.64067818],\n",
       "       [187.        , 303.6755647 ],\n",
       "       [186.        , 303.87809784],\n",
       "       [185.53038222, 304.        ],\n",
       "       [185.        , 304.35173412],\n",
       "       [184.        , 304.51981794],\n",
       "       [183.        , 304.47513311],\n",
       "       [182.        , 304.4497486 ],\n",
       "       [181.        , 304.45039203],\n",
       "       [180.        , 304.43964997],\n",
       "       [179.        , 304.45791134],\n",
       "       [178.        , 304.54401631],\n",
       "       [177.        , 304.56812867],\n",
       "       [176.        , 304.48319222],\n",
       "       [175.        , 304.44571667],\n",
       "       [174.        , 304.39025897],\n",
       "       [173.        , 304.34016647],\n",
       "       [172.        , 304.38541465],\n",
       "       [171.        , 304.46422869],\n",
       "       [170.        , 304.54217975],\n",
       "       [169.        , 304.58804299],\n",
       "       [168.        , 304.6100735 ],\n",
       "       [167.        , 304.64184769],\n",
       "       [166.        , 304.66242576],\n",
       "       [165.        , 304.62555402],\n",
       "       [164.        , 304.61852353],\n",
       "       [163.        , 304.61149442],\n",
       "       [162.        , 304.62042045],\n",
       "       [161.        , 304.63166629],\n",
       "       [160.        , 304.5286494 ],\n",
       "       [159.        , 304.42879011],\n",
       "       [158.        , 304.46352091],\n",
       "       [157.        , 304.20819649],\n",
       "       [156.7240186 , 304.        ],\n",
       "       [156.        , 303.79235345],\n",
       "       [155.        , 303.68109549],\n",
       "       [154.        , 303.50615419],\n",
       "       [153.        , 303.18324258],\n",
       "       [152.73945   , 303.        ],\n",
       "       [152.        , 302.84537713],\n",
       "       [151.        , 302.83390207],\n",
       "       [150.        , 302.83908342],\n",
       "       [149.        , 302.80568706],\n",
       "       [148.        , 302.71758397],\n",
       "       [147.        , 302.48825667],\n",
       "       [146.20103455, 302.        ],\n",
       "       [146.        , 301.93957978],\n",
       "       [145.        , 301.71818718],\n",
       "       [144.        , 301.59279514],\n",
       "       [143.        , 301.55498081],\n",
       "       [142.        , 301.1971622 ],\n",
       "       [141.7014225 , 301.        ],\n",
       "       [141.        , 300.83782139],\n",
       "       [140.        , 300.56428796],\n",
       "       [139.15356806, 300.        ],\n",
       "       [139.        , 299.93852353],\n",
       "       [138.        , 299.74673945],\n",
       "       [137.        , 299.68303691],\n",
       "       [136.        , 299.53431459],\n",
       "       [135.2923932 , 299.        ],\n",
       "       [135.        , 298.87928325],\n",
       "       [134.        , 298.63862604],\n",
       "       [133.18921604, 298.        ],\n",
       "       [133.        , 297.89039945],\n",
       "       [132.        , 297.69041513],\n",
       "       [131.        , 297.44071976],\n",
       "       [130.29194364, 297.        ],\n",
       "       [130.        , 296.91128785],\n",
       "       [129.        , 296.69090269],\n",
       "       [128.10131849, 296.        ],\n",
       "       [128.        , 295.93868825],\n",
       "       [127.        , 295.64428279],\n",
       "       [126.27580105, 295.        ],\n",
       "       [126.        , 294.84613871],\n",
       "       [125.        , 294.5641248 ],\n",
       "       [124.16316027, 294.        ],\n",
       "       [124.        , 293.93491421],\n",
       "       [123.        , 293.61359469],\n",
       "       [122.08166598, 293.        ],\n",
       "       [122.        , 292.96359274],\n",
       "       [121.        , 292.58782202],\n",
       "       [120.41700915, 292.        ],\n",
       "       [120.        , 291.71584221],\n",
       "       [119.        , 291.10467   ],\n",
       "       [118.89695299, 291.        ],\n",
       "       [118.        , 290.69176013],\n",
       "       [117.15509504, 290.        ],\n",
       "       [117.        , 289.89745082],\n",
       "       [116.        , 289.53627079],\n",
       "       [115.34697233, 289.        ],\n",
       "       [115.        , 288.84484796],\n",
       "       [114.        , 288.61892671],\n",
       "       [113.16569677, 288.        ],\n",
       "       [113.        , 287.92123523],\n",
       "       [112.        , 287.59221384],\n",
       "       [111.39937811, 287.        ],\n",
       "       [111.        , 286.78739162],\n",
       "       [110.        , 286.03842017],\n",
       "       [109.96157983, 286.        ],\n",
       "       [109.        , 285.34787932],\n",
       "       [108.65931582, 285.        ],\n",
       "       [108.        , 284.68650078],\n",
       "       [107.0838075 , 284.        ],\n",
       "       [107.        , 283.94593065],\n",
       "       [106.        , 283.592311  ],\n",
       "       [105.23217789, 283.        ],\n",
       "       [105.        , 282.88512031],\n",
       "       [104.        , 282.34830317],\n",
       "       [103.67730735, 282.        ],\n",
       "       [103.        , 281.74269888],\n",
       "       [102.        , 281.09505962],\n",
       "       [101.901138  , 281.        ],\n",
       "       [101.        , 280.62762893],\n",
       "       [100.37237107, 280.        ],\n",
       "       [100.        , 279.68633617],\n",
       "       [ 99.20077142, 279.        ],\n",
       "       [ 99.        , 278.801868  ],\n",
       "       [ 98.27367029, 278.        ],\n",
       "       [ 98.        , 277.77652959],\n",
       "       [ 97.20464545, 277.        ],\n",
       "       [ 97.        , 276.79780539],\n",
       "       [ 96.18261656, 276.        ],\n",
       "       [ 96.        , 275.82175749],\n",
       "       [ 95.19104674, 275.        ],\n",
       "       [ 95.        , 274.81994556],\n",
       "       [ 94.12668521, 274.        ],\n",
       "       [ 94.        , 273.8717976 ],\n",
       "       [ 93.12069938, 273.        ],\n",
       "       [ 93.        , 272.86587383],\n",
       "       [ 92.23659645, 272.        ],\n",
       "       [ 92.        , 271.7352    ],\n",
       "       [ 91.30430707, 271.        ],\n",
       "       [ 91.        , 270.69377392],\n",
       "       [ 90.29926624, 270.        ],\n",
       "       [ 90.        , 269.64673083],\n",
       "       [ 89.35326917, 269.        ],\n",
       "       [ 89.        , 268.5463693 ],\n",
       "       [ 88.43970099, 268.        ],\n",
       "       [ 88.        , 267.50101348],\n",
       "       [ 87.52130757, 267.        ],\n",
       "       [ 87.        , 266.28745708],\n",
       "       [ 86.7057424 , 266.        ],\n",
       "       [ 86.13453908, 265.        ],\n",
       "       [ 86.        , 264.62841587],\n",
       "       [ 85.54682844, 264.        ],\n",
       "       [ 85.11447687, 263.        ],\n",
       "       [ 85.        , 262.74702785],\n",
       "       [ 84.45140414, 262.        ],\n",
       "       [ 84.17638118, 261.        ],\n",
       "       [ 84.        , 260.68437053],\n",
       "       [ 83.42356023, 260.        ],\n",
       "       [ 83.18368258, 259.        ],\n",
       "       [ 83.        , 258.6512313 ],\n",
       "       [ 82.43682524, 258.        ],\n",
       "       [ 82.27123215, 257.        ],\n",
       "       [ 82.05426423, 256.        ],\n",
       "       [ 82.        , 255.86298437],\n",
       "       [ 81.4577535 , 255.        ],\n",
       "       [ 81.33709733, 254.        ],\n",
       "       [ 81.05894612, 253.        ],\n",
       "       [ 81.        , 252.89468721],\n",
       "       [ 80.37444634, 252.        ],\n",
       "       [ 80.24410472, 251.        ],\n",
       "       [ 80.13940885, 250.        ],\n",
       "       [ 80.        , 249.23524286],\n",
       "       [ 79.85298844, 249.        ],\n",
       "       [ 79.39082902, 248.        ],\n",
       "       [ 79.24710753, 247.        ],\n",
       "       [ 79.        , 246.22707193],\n",
       "       [ 78.78428167, 246.        ],\n",
       "       [ 78.60558581, 245.        ],\n",
       "       [ 78.50058331, 244.        ],\n",
       "       [ 78.37714167, 243.        ],\n",
       "       [ 78.31173354, 242.        ],\n",
       "       [ 78.25770488, 241.        ],\n",
       "       [ 78.23771209, 240.        ],\n",
       "       [ 78.22001967, 239.        ],\n",
       "       [ 78.15195484, 238.        ]])"
      ]
     },
     "execution_count": 112,
     "metadata": {},
     "output_type": "execute_result"
    }
   ],
   "source": [
    "for i in range(len(splited)):\n",
    "    \n"
   ]
  },
  {
   "cell_type": "code",
   "execution_count": null,
   "metadata": {},
   "outputs": [],
   "source": []
  },
  {
   "cell_type": "code",
   "execution_count": null,
   "metadata": {},
   "outputs": [],
   "source": []
  },
  {
   "cell_type": "code",
   "execution_count": null,
   "metadata": {},
   "outputs": [],
   "source": []
  },
  {
   "cell_type": "code",
   "execution_count": null,
   "metadata": {},
   "outputs": [],
   "source": []
  },
  {
   "cell_type": "code",
   "execution_count": null,
   "metadata": {},
   "outputs": [],
   "source": []
  },
  {
   "cell_type": "code",
   "execution_count": null,
   "metadata": {},
   "outputs": [],
   "source": []
  },
  {
   "cell_type": "code",
   "execution_count": null,
   "metadata": {},
   "outputs": [],
   "source": []
  },
  {
   "cell_type": "code",
   "execution_count": null,
   "metadata": {},
   "outputs": [],
   "source": []
  },
  {
   "cell_type": "code",
   "execution_count": null,
   "metadata": {},
   "outputs": [],
   "source": []
  },
  {
   "cell_type": "code",
   "execution_count": null,
   "metadata": {},
   "outputs": [],
   "source": []
  },
  {
   "cell_type": "code",
   "execution_count": null,
   "metadata": {},
   "outputs": [],
   "source": []
  }
 ],
 "metadata": {
  "kernelspec": {
   "display_name": "Python 3",
   "language": "python",
   "name": "python3"
  },
  "language_info": {
   "codemirror_mode": {
    "name": "ipython",
    "version": 3
   },
   "file_extension": ".py",
   "mimetype": "text/x-python",
   "name": "python",
   "nbconvert_exporter": "python",
   "pygments_lexer": "ipython3",
   "version": "3.7.3"
  },
  "widgets": {
   "state": {},
   "version": "1.1.2"
  }
 },
 "nbformat": 4,
 "nbformat_minor": 2
}
